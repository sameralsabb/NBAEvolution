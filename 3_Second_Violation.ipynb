{
 "cells": [
  {
   "cell_type": "code",
   "execution_count": 1,
   "metadata": {},
   "outputs": [],
   "source": [
    "import pandas as pd\n",
    "import matplotlib.pyplot as plt"
   ]
  },
  {
   "cell_type": "code",
   "execution_count": 2,
   "metadata": {},
   "outputs": [],
   "source": [
    "basketball_data = pd.read_html(\"https://www.basketball-reference.com/leagues/NBA_stats.html\")"
   ]
  },
  {
   "cell_type": "code",
   "execution_count": 3,
   "metadata": {},
   "outputs": [
    {
     "data": {
      "text/plain": [
       "1"
      ]
     },
     "execution_count": 3,
     "metadata": {},
     "output_type": "execute_result"
    }
   ],
   "source": [
    "len(basketball_data)"
   ]
  },
  {
   "cell_type": "code",
   "execution_count": 5,
   "metadata": {},
   "outputs": [
    {
     "data": {
      "text/html": [
       "<div>\n",
       "<style scoped>\n",
       "    .dataframe tbody tr th:only-of-type {\n",
       "        vertical-align: middle;\n",
       "    }\n",
       "\n",
       "    .dataframe tbody tr th {\n",
       "        vertical-align: top;\n",
       "    }\n",
       "\n",
       "    .dataframe thead th {\n",
       "        text-align: right;\n",
       "    }\n",
       "</style>\n",
       "<table border=\"1\" class=\"dataframe\">\n",
       "  <thead>\n",
       "    <tr style=\"text-align: right;\">\n",
       "      <th></th>\n",
       "      <th>Rk</th>\n",
       "      <th>Season</th>\n",
       "      <th>Lg</th>\n",
       "      <th>Age</th>\n",
       "      <th>Ht</th>\n",
       "      <th>Wt</th>\n",
       "      <th>G</th>\n",
       "      <th>MP</th>\n",
       "      <th>FG</th>\n",
       "      <th>FGA</th>\n",
       "      <th>...</th>\n",
       "      <th>PTS</th>\n",
       "      <th>FG%</th>\n",
       "      <th>3P%</th>\n",
       "      <th>FT%</th>\n",
       "      <th>Pace</th>\n",
       "      <th>eFG%</th>\n",
       "      <th>TOV%</th>\n",
       "      <th>ORB%</th>\n",
       "      <th>FT/FGA</th>\n",
       "      <th>ORtg</th>\n",
       "    </tr>\n",
       "  </thead>\n",
       "  <tbody>\n",
       "    <tr>\n",
       "      <th>0</th>\n",
       "      <td>1</td>\n",
       "      <td>2017-18</td>\n",
       "      <td>NBA</td>\n",
       "      <td>26.4</td>\n",
       "      <td>6-7</td>\n",
       "      <td>218</td>\n",
       "      <td>1230</td>\n",
       "      <td>241.4</td>\n",
       "      <td>39.6</td>\n",
       "      <td>86.1</td>\n",
       "      <td>...</td>\n",
       "      <td>106.3</td>\n",
       "      <td>.460</td>\n",
       "      <td>.362</td>\n",
       "      <td>.767</td>\n",
       "      <td>97.3</td>\n",
       "      <td>.521</td>\n",
       "      <td>13.0</td>\n",
       "      <td>22.3</td>\n",
       "      <td>.193</td>\n",
       "      <td>108.6</td>\n",
       "    </tr>\n",
       "    <tr>\n",
       "      <th>1</th>\n",
       "      <td>2</td>\n",
       "      <td>2016-17</td>\n",
       "      <td>NBA</td>\n",
       "      <td>26.6</td>\n",
       "      <td>6-7</td>\n",
       "      <td>220</td>\n",
       "      <td>1230</td>\n",
       "      <td>241.6</td>\n",
       "      <td>39.0</td>\n",
       "      <td>85.4</td>\n",
       "      <td>...</td>\n",
       "      <td>105.6</td>\n",
       "      <td>.457</td>\n",
       "      <td>.358</td>\n",
       "      <td>.772</td>\n",
       "      <td>96.4</td>\n",
       "      <td>.514</td>\n",
       "      <td>12.7</td>\n",
       "      <td>23.3</td>\n",
       "      <td>.209</td>\n",
       "      <td>108.8</td>\n",
       "    </tr>\n",
       "    <tr>\n",
       "      <th>2</th>\n",
       "      <td>3</td>\n",
       "      <td>2015-16</td>\n",
       "      <td>NBA</td>\n",
       "      <td>26.7</td>\n",
       "      <td>6-7</td>\n",
       "      <td>221</td>\n",
       "      <td>1230</td>\n",
       "      <td>241.8</td>\n",
       "      <td>38.2</td>\n",
       "      <td>84.6</td>\n",
       "      <td>...</td>\n",
       "      <td>102.7</td>\n",
       "      <td>.452</td>\n",
       "      <td>.354</td>\n",
       "      <td>.757</td>\n",
       "      <td>95.8</td>\n",
       "      <td>.502</td>\n",
       "      <td>13.2</td>\n",
       "      <td>23.8</td>\n",
       "      <td>.209</td>\n",
       "      <td>106.4</td>\n",
       "    </tr>\n",
       "    <tr>\n",
       "      <th>3</th>\n",
       "      <td>4</td>\n",
       "      <td>2014-15</td>\n",
       "      <td>NBA</td>\n",
       "      <td>26.7</td>\n",
       "      <td>6-7</td>\n",
       "      <td>222</td>\n",
       "      <td>1230</td>\n",
       "      <td>242.0</td>\n",
       "      <td>37.5</td>\n",
       "      <td>83.6</td>\n",
       "      <td>...</td>\n",
       "      <td>100.0</td>\n",
       "      <td>.449</td>\n",
       "      <td>.350</td>\n",
       "      <td>.750</td>\n",
       "      <td>93.9</td>\n",
       "      <td>.496</td>\n",
       "      <td>13.3</td>\n",
       "      <td>25.1</td>\n",
       "      <td>.205</td>\n",
       "      <td>105.6</td>\n",
       "    </tr>\n",
       "    <tr>\n",
       "      <th>4</th>\n",
       "      <td>5</td>\n",
       "      <td>2013-14</td>\n",
       "      <td>NBA</td>\n",
       "      <td>26.5</td>\n",
       "      <td>6-7</td>\n",
       "      <td>223</td>\n",
       "      <td>1230</td>\n",
       "      <td>242.0</td>\n",
       "      <td>37.7</td>\n",
       "      <td>83.0</td>\n",
       "      <td>...</td>\n",
       "      <td>101.0</td>\n",
       "      <td>.454</td>\n",
       "      <td>.360</td>\n",
       "      <td>.756</td>\n",
       "      <td>93.9</td>\n",
       "      <td>.501</td>\n",
       "      <td>13.6</td>\n",
       "      <td>25.5</td>\n",
       "      <td>.215</td>\n",
       "      <td>106.6</td>\n",
       "    </tr>\n",
       "  </tbody>\n",
       "</table>\n",
       "<p>5 rows × 32 columns</p>\n",
       "</div>"
      ],
      "text/plain": [
       "  Rk   Season   Lg   Age   Ht   Wt     G     MP    FG   FGA  ...      PTS  \\\n",
       "0  1  2017-18  NBA  26.4  6-7  218  1230  241.4  39.6  86.1  ...    106.3   \n",
       "1  2  2016-17  NBA  26.6  6-7  220  1230  241.6  39.0  85.4  ...    105.6   \n",
       "2  3  2015-16  NBA  26.7  6-7  221  1230  241.8  38.2  84.6  ...    102.7   \n",
       "3  4  2014-15  NBA  26.7  6-7  222  1230  242.0  37.5  83.6  ...    100.0   \n",
       "4  5  2013-14  NBA  26.5  6-7  223  1230  242.0  37.7  83.0  ...    101.0   \n",
       "\n",
       "    FG%   3P%   FT%  Pace  eFG%  TOV%  ORB% FT/FGA   ORtg  \n",
       "0  .460  .362  .767  97.3  .521  13.0  22.3   .193  108.6  \n",
       "1  .457  .358  .772  96.4  .514  12.7  23.3   .209  108.8  \n",
       "2  .452  .354  .757  95.8  .502  13.2  23.8   .209  106.4  \n",
       "3  .449  .350  .750  93.9  .496  13.3  25.1   .205  105.6  \n",
       "4  .454  .360  .756  93.9  .501  13.6  25.5   .215  106.6  \n",
       "\n",
       "[5 rows x 32 columns]"
      ]
     },
     "execution_count": 5,
     "metadata": {},
     "output_type": "execute_result"
    }
   ],
   "source": [
    "df = basketball_data[0]\n",
    "df.columns = df.columns.droplevel()\n",
    "df_clean = df.drop(df.index[[20, 21, 42, 43, 64, 65]])\n",
    "df_clean.head()"
   ]
  },
  {
   "cell_type": "code",
   "execution_count": 23,
   "metadata": {},
   "outputs": [],
   "source": [
    "df_clean['PTS'] = pd.to_numeric(df_clean['PTS'])"
   ]
  },
  {
   "cell_type": "code",
   "execution_count": 28,
   "metadata": {},
   "outputs": [],
   "source": [
    "points_3_second = df_clean.iloc[8:25, 22]\n",
    "season_3_second = df_clean.iloc[8:25, 1]"
   ]
  },
  {
   "cell_type": "code",
   "execution_count": 32,
   "metadata": {},
   "outputs": [
    {
     "data": {
      "image/png": "[encoded data removed]",
      "text/plain": [
       "<matplotlib.figure.Figure at 0x10d1886a0>"
      ]
     },
     "metadata": {},
     "output_type": "display_data"
    }
   ],
   "source": [
    "fig, ax = plt.subplots(figsize=(20,10))\n",
    "plt.plot(season_3_second, points_3_second, 'go--', linewidth=2, markersize=12)\n",
    "plt.title(\"Points Before and After 3-Second violation\", fontsize=20)\n",
    "plt.ylabel(\"Points\", fontsize=20)\n",
    "plt.xlabel(\"Season\", fontsize=20)\n",
    "plt.ylim((50,120))\n",
    "plt.grid(True)\n",
    "plt.vlines('2000-01', 0, 120)\n",
    "plt.tick_params(labelsize = 12)"
   ]
  },
  {
   "cell_type": "code",
   "execution_count": null,
   "metadata": {},
   "outputs": [],
   "source": []
  }
 ],
 "metadata": {
  "kernelspec": {
   "display_name": "Python 3",
   "language": "python",
   "name": "python3"
  },
  "language_info": {
   "codemirror_mode": {
    "name": "ipython",
    "version": 3
   },
   "file_extension": ".py",
   "mimetype": "text/x-python",
   "name": "python",
   "nbconvert_exporter": "python",
   "pygments_lexer": "ipython3",
   "version": "3.6.4"
  }
 },
 "nbformat": 4,
 "nbformat_minor": 2
}
